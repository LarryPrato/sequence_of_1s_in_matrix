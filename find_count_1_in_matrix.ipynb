{
 "cells": [
  {
   "cell_type": "markdown",
   "metadata": {},
   "source": [
    "### Descrição do código\n",
    "O algoritmo pesquisa de forma horizontal os \"1\" da esquerda para direita. Cada vez que encontra um caso positivo inicia um loop entre todos os \"1\" consecutivos/adjacentes, e assim começa a medir o tamanho do rio. Para isso, contará primeiro todos os casos consecutivos horizontalmente, e em paralelo armazenará em uma lista as coordenadas onde encontra vizinhos na parte inferior. Quando acaba o varrido dos \"1\" consecutivos na horizontal procede a somar os casos positivos nas linhas verticais definidos por cada coordenada armazenada. Para este caso, da mesma forma, cada vez que encontrar um vizinho do lado direito ou esquerdo, salvará as coordenadas em duas listas: extensão a direita ou extensão a esquerda. Finalmente, executará uma soma horizontal ou vertical segundo as coordenadas salvas nessas últimas listas. "
   ]
  },
  {
   "cell_type": "code",
   "execution_count": 1,
   "metadata": {},
   "outputs": [],
   "source": [
    "matrix = [\n",
    "    [0, 1, 0, 0, 1, 1],\n",
    "    [1, 1, 1, 0, 1, 0],\n",
    "    [0, 1, 0, 0, 0, 1],\n",
    "    [0, 1, 1, 0, 1, 1],\n",
    "    [1, 0, 0, 0, 0, 0],\n",
    "    [1, 1, 1, 0, 1, 1]\n",
    "]"
   ]
  },
  {
   "cell_type": "code",
   "execution_count": 2,
   "metadata": {},
   "outputs": [],
   "source": [
    "def exp_matrix(matrix):\n",
    "    ext_row =[]\n",
    "    for row in matrix:\n",
    "        row.append(8)\n",
    "    for col in range(0, len(matrix[0])):\n",
    "        ext_row.append(8)\n",
    "    matrix.append(ext_row)\n",
    "    return matrix\n",
    "matrix=exp_matrix(matrix)"
   ]
  },
  {
   "cell_type": "code",
   "execution_count": 3,
   "metadata": {},
   "outputs": [],
   "source": [
    "def mostrar_rios(matrix):\n",
    "    for row in matrix:\n",
    "        row.pop()\n",
    "    matrix = matrix[:-1]\n",
    "    for row in range(0, len(matrix)):\n",
    "        for col in range(0, len(matrix[0])):            \n",
    "            if matrix[row][col] == 0:\n",
    "                matrix[row][col] = ' '\n",
    "            if matrix[row][col] == 9:\n",
    "                matrix[row][col] = '1'\n",
    "    return matrix"
   ]
  },
  {
   "cell_type": "code",
   "execution_count": 4,
   "metadata": {},
   "outputs": [],
   "source": [
    "#Conexões a direita, esquerda e descedente.\n",
    "def is_con_right(row, col):\n",
    "    if matrix[row][col] == matrix[row][col+1]:\n",
    "        return True\n",
    "    else:\n",
    "        return False\n",
    "\n",
    "def is_con_left(row, col):\n",
    "    if matrix[row][col] == matrix[row][col-1]:\n",
    "        return True\n",
    "    else:\n",
    "        return False  \n",
    "\n",
    "def is_con_down(row, col):\n",
    "    if matrix[row][col] == matrix[row+1][col]:\n",
    "        return True\n",
    "    else:\n",
    "        return False"
   ]
  },
  {
   "cell_type": "code",
   "execution_count": 5,
   "metadata": {},
   "outputs": [],
   "source": [
    "#Função principal\n",
    "def medir_rio(row, col, ext_vert=[]):\n",
    "    comprimento = 0\n",
    "    if ((matrix[row][col] == 1) and is_con_right(row, col)): # Valida se pocição tem conexão a direita \n",
    "        while is_con_right(row, col):\n",
    "            comprimento += 1\n",
    "            if is_con_down(row, col): # Armazena as coordenadas dos vizinhos encontrados na parte inferior\n",
    "                ext_vert.append((row, col))\n",
    "            matrix[row][col] = 9 # Troca os 1's por 9's\n",
    "            col += 1  \n",
    "        if is_con_down(row, col): # valida se ultimo elemento do while tem um 1 como vizinho vertical\n",
    "            ext_vert.append((row, col))\n",
    "        comprimento += 1 # ultimo elemento do while que não tinha sido sumado\n",
    "        matrix[row][col] = 9\n",
    "    elif(matrix[row][col] == 1):\n",
    "        comprimento += 1\n",
    "        if (matrix[row][col] == 1) and is_con_down(row, col):\n",
    "            ext_vert.append((row, col))\n",
    "        matrix[row][col] = 9\n",
    "    if len(ext_vert)>0:\n",
    "        comprimento = somar_ext_vert(comprimento= comprimento, ext_vert = ext_vert)\n",
    "        ext_vert.clear()\n",
    "    return comprimento"
   ]
  },
  {
   "cell_type": "code",
   "execution_count": 6,
   "metadata": {},
   "outputs": [],
   "source": [
    "def somar_ext_vert(comprimento, ext_vert, ext_direita=[], ext_esquerda=[]):\n",
    "    for tupla in ext_vert:\n",
    "        row, col = tupla\n",
    "        row = row + 1 # atualizar linha na parte inferior onde começa a sequencia vertical\n",
    "        if matrix[row][col] == 1 and is_con_down(row, col):\n",
    "            while is_con_down(row, col):                \n",
    "                comprimento += 1\n",
    "                if is_con_right(row, col):\n",
    "                    ext_direita.append((row,col))\n",
    "                if is_con_left(row, col):\n",
    "                    ext_esquerda.append((row,col))\n",
    "                matrix[row][col] = 9\n",
    "                row += 1\n",
    "            if is_con_right(row, col):\n",
    "                ext_direita.append((row,col))\n",
    "            if is_con_left(row, col):\n",
    "                ext_esquerda.append((row,col))\n",
    "            matrix[row][col] = 9\n",
    "            comprimento += 1\n",
    "        elif matrix[row][col] == 1:\n",
    "            comprimento += 1            \n",
    "            if is_con_right(row, col):\n",
    "                ext_direita.append((row,col)) \n",
    "            if is_con_left(row, col):\n",
    "                ext_esquerda.append((row,col))\n",
    "            matrix[row][col] = 9\n",
    "    if len(ext_direita)>0:\n",
    "        comprimento =  somar_ext_direita(comprimento = comprimento, ext_direita=ext_direita)\n",
    "    ext_direita.clear()\n",
    "    if len(ext_esquerda)>0:\n",
    "        comprimento = somar_ext_esquerda(comprimento = comprimento, ext_esquerda = ext_esquerda)\n",
    "    ext_esquerda.clear()\n",
    "    return comprimento       "
   ]
  },
  {
   "cell_type": "code",
   "execution_count": 7,
   "metadata": {},
   "outputs": [],
   "source": [
    "def somar_ext_direita(comprimento, ext_direita):\n",
    "    for coordenada in ext_direita:\n",
    "        row, col = coordenada\n",
    "        col = col + 1\n",
    "        if matrix[row][col] == 1 and is_con_right(row, col):\n",
    "            while is_con_right(row, col):\n",
    "                comprimento += 1\n",
    "                matrix[row][col] = 9\n",
    "                col += 1\n",
    "            matrix[row][col] = 9\n",
    "            comprimento += 1\n",
    "        elif ((matrix[row][col] == 1)):\n",
    "            comprimento += 1\n",
    "            matrix[row][col] = 9\n",
    "    return comprimento"
   ]
  },
  {
   "cell_type": "code",
   "execution_count": 8,
   "metadata": {},
   "outputs": [],
   "source": [
    "def somar_ext_esquerda(comprimento, ext_esquerda):\n",
    "    for coordenada in ext_esquerda:\n",
    "        row, col = coordenada\n",
    "        col -= 1\n",
    "        if matrix[row][col] == 1 and is_con_left(row, col):\n",
    "            while is_con_left(row, col):\n",
    "                comprimento += 1\n",
    "                matrix[row][col] = 9\n",
    "                col -= 1\n",
    "            matrix[row][col] = 9\n",
    "            comprimento += 1\n",
    "        elif matrix[row][col] == 1:\n",
    "            comprimento += 1\n",
    "            matrix[row][col] = 9                \n",
    "    return comprimento\n",
    "    "
   ]
  },
  {
   "cell_type": "code",
   "execution_count": 9,
   "metadata": {},
   "outputs": [
    {
     "name": "stdout",
     "output_type": "stream",
     "text": [
      "O tamanho dos rios achados é: [2, 3, 3, 4, 7]\n"
     ]
    }
   ],
   "source": [
    "river = []\n",
    "for row in range(0, len(matrix)):\n",
    "    for col in range(0, len(matrix[0])):\n",
    "        if matrix[row][col]==1:\n",
    "            river.append(medir_rio(row=row, col=col))\n",
    "river.sort()\n",
    "print(f'O tamanho dos rios achados é: {river}')"
   ]
  },
  {
   "cell_type": "code",
   "execution_count": 10,
   "metadata": {},
   "outputs": [
    {
     "data": {
      "text/plain": [
       "[[' ', '1', ' ', ' ', '1', '1'],\n",
       " ['1', '1', '1', ' ', '1', ' '],\n",
       " [' ', '1', ' ', ' ', ' ', '1'],\n",
       " [' ', '1', '1', ' ', '1', '1'],\n",
       " ['1', ' ', ' ', ' ', ' ', ' '],\n",
       " ['1', '1', '1', ' ', '1', '1']]"
      ]
     },
     "execution_count": 10,
     "metadata": {},
     "output_type": "execute_result"
    }
   ],
   "source": [
    "mostrar_rios(matrix)"
   ]
  }
 ],
 "metadata": {
  "kernelspec": {
   "display_name": "Python 3",
   "language": "python",
   "name": "python3"
  },
  "language_info": {
   "codemirror_mode": {
    "name": "ipython",
    "version": 3
   },
   "file_extension": ".py",
   "mimetype": "text/x-python",
   "name": "python",
   "nbconvert_exporter": "python",
   "pygments_lexer": "ipython3",
   "version": "3.8.5"
  }
 },
 "nbformat": 4,
 "nbformat_minor": 4
}
